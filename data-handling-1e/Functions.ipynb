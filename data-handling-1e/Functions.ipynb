{
 "cells": [
  {
   "cell_type": "markdown",
   "id": "de85dce3",
   "metadata": {},
   "source": [
    "The function for saving a file."
   ]
  },
  {
   "cell_type": "code",
   "execution_count": 5,
   "id": "74cf5ad3",
   "metadata": {},
   "outputs": [
    {
     "name": "stdout",
     "output_type": "stream",
     "text": [
      "What transfer type would you like to use?\n",
      "        - numpy (recommended for 50hz standard BLM data)\n",
      "        - polars\n",
      "        - pyarrow\n",
      "        (If you are reading use the type it was transferred in)numpy\n",
      "[[-4.99939013e+00 -4.99939013e+00 -4.99939013e+00 ... -4.99939013e+00\n",
      "  -4.99939013e+00 -4.99939013e+00]\n",
      " [-6.70999987e-03 -4.87999991e-03 -4.26999992e-03 ... -5.48999989e-03\n",
      "  -4.87999991e-03 -4.26999992e-03]\n",
      " [-3.04999994e-03  6.09999988e-04  1.21999998e-03 ...  4.26999992e-03\n",
      "   4.26999992e-03  6.09999988e-04]\n",
      " ...\n",
      " [-3.04999994e-03  1.21999998e-03  2.43999995e-03 ...  2.43999995e-03\n",
      "  -1.21999998e-03  0.00000000e+00]\n",
      " [-1.21999998e-03 -1.21999998e-03  6.09999988e-04 ... -6.70999987e-03\n",
      "  -4.87999991e-03 -4.87999991e-03]\n",
      " [ 3.53999995e-02  3.53999995e-02  3.60100009e-02 ...  2.31899992e-02\n",
      "   2.31899992e-02  2.31899992e-02]]\n"
     ]
    }
   ],
   "source": [
    "import numpy as np\n",
    "import pandas as pd\n",
    "import glob\n",
    "\n",
    "files = glob.glob(\"BLM_R5IM_Data/cycle\" + '/*.csv')\n",
    "selected_file = files[0]\n",
    "input_data = pd.read_csv(selected_file)\n",
    "dataframe = input_data.drop(columns = input_data.columns[0]).to_numpy()\n",
    "\n",
    "def InitialiseBLMFile():\n",
    "    correct_input = False\n",
    "    while(correct_input == False):\n",
    "        #file_directory = input('''Where would you like to store your file?\n",
    "        #Example: C:\\\\Users\\\\izy65733\\\\documents''')\n",
    "        global file_directory \n",
    "        file_directory = \"C:\\\\Users\\\\izy65733\\\\documents\\\\npyBLM.npy\"\n",
    "        correct_input = True\n",
    "    correct_input = False\n",
    "    while(correct_input == False):\n",
    "        global transfer_type \n",
    "        transfer_type = input('''What transfer type would you like to use?\n",
    "        - numpy (recommended for 50hz standard BLM data)\n",
    "        - polars\n",
    "        - pyarrow\n",
    "        (If you are reading use the type it was transferred in)''')\n",
    "        if(transfer_type.lower() == \"numpy\"):\n",
    "            correct_input = True\n",
    "        if(transfer_type.lower() == \"polars\"):\n",
    "            correct_input = True\n",
    "        if(transfer_type.lower() == \"pyarrow\"):\n",
    "            correct_input = True\n",
    "\n",
    "def SaveBLMFile(data):\n",
    "    if(transfer_type == \"numpy\"):\n",
    "        np.save(file_directory, data)\n",
    "    \n",
    "\n",
    "def ReadBLMFile():\n",
    "    correct_input = False\n",
    "    while(correct_input == False):\n",
    "        #file_directory = input('''Where would you like to retrieve your file from?\n",
    "        #Example: C:\\\\Users\\\\izy65733\\\\documents''')\n",
    "        file_directory = \"C:\\\\Users\\\\izy65733\\\\documents\\\\npyBLM.npy\"\n",
    "        correct_input = True\n",
    "    if(transfer_type == \"numpy\"):       \n",
    "        new_dataframe = np.load(file_directory)\n",
    "    \n",
    "    return new_dataframe\n",
    "\n",
    "InitialiseBLMFile()\n",
    "SaveBLMFile(dataframe)\n",
    "new_dataframe = ReadBLMFile()\n",
    "print(new_dataframe)"
   ]
  },
  {
   "cell_type": "code",
   "execution_count": null,
   "id": "84c5ad6f",
   "metadata": {},
   "outputs": [],
   "source": []
  }
 ],
 "metadata": {
  "kernelspec": {
   "display_name": "Python 3 (ipykernel)",
   "language": "python",
   "name": "python3"
  },
  "language_info": {
   "codemirror_mode": {
    "name": "ipython",
    "version": 3
   },
   "file_extension": ".py",
   "mimetype": "text/x-python",
   "name": "python",
   "nbconvert_exporter": "python",
   "pygments_lexer": "ipython3",
   "version": "3.10.9"
  }
 },
 "nbformat": 4,
 "nbformat_minor": 5
}
