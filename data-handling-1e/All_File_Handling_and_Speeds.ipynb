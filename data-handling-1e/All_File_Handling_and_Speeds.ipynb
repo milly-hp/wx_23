{
 "cells": [
  {
   "cell_type": "markdown",
   "id": "9d065c8d",
   "metadata": {},
   "source": [
    "This is text files speed tester."
   ]
  },
  {
   "cell_type": "code",
   "execution_count": 4,
   "id": "957516a8",
   "metadata": {},
   "outputs": [
    {
     "name": "stdout",
     "output_type": "stream",
     "text": [
      "Write: 0.1693\n",
      "Read: 0.0308\n"
     ]
    }
   ],
   "source": [
    "import glob\n",
    "import pandas as pd\n",
    "import time\n",
    "\n",
    "files = glob.glob(\"BLM_R5IM_Data/cycle\" + '/*.csv')\n",
    "selected_file = files[0]\n",
    "input_data = pd.read_csv(selected_file)\n",
    "dataframe = input_data.drop(columns = input_data.columns[0]).to_numpy()\n",
    "\n",
    "\n",
    "f = open(\"C:\\\\Users\\\\izy65733\\\\documents\\\\textBLM.txt\", \"w\")\n",
    "f.write(\"\")\n",
    "f.close()\n",
    "\n",
    "# Start timer\n",
    "start_time = time.time()\n",
    "\n",
    "f = open(\"C:\\\\Users\\\\izy65733\\\\documents\\\\textBLM.txt\", \"a\")\n",
    "writer = csv.writer(f)\n",
    "writer.writerows(dataframe)\n",
    "f.close()\n",
    "\n",
    "# End timer and print time\n",
    "end_time = time.time()\n",
    "total_time = (round(end_time - start_time, 4))\n",
    "print('Write:',total_time)\n",
    "\n",
    "\n",
    "\n",
    "# Start timer\n",
    "start_time = time.time()\n",
    "\n",
    "f = open(\"C:\\\\Users\\\\izy65733\\\\documents\\\\textBLM.txt\", \"r\")\n",
    "i = 0\n",
    "j = 0\n",
    "for line in f:\n",
    "    try:\n",
    "        voltage = float(line)\n",
    "        if j == 2200:\n",
    "            i += 1\n",
    "            j = 0\n",
    "        current_BLM = dataframe[i]\n",
    "        current_BLM[j] = voltage\n",
    "        j += 1\n",
    "    except:\n",
    "        pass\n",
    "f.close()\n",
    "\n",
    "\n",
    "# End timer and print time\n",
    "end_time = time.time()\n",
    "total_time = (round(end_time - start_time, 4))\n",
    "print('Read:',total_time)"
   ]
  },
  {
   "cell_type": "markdown",
   "id": "4c785b92",
   "metadata": {},
   "source": [
    "This is comma separated values file speed tester."
   ]
  },
  {
   "cell_type": "code",
   "execution_count": 3,
   "id": "53ebe4df",
   "metadata": {
    "scrolled": true
   },
   "outputs": [
    {
     "name": "stdout",
     "output_type": "stream",
     "text": [
      "Write: 0.1374\n",
      "Read: 0.1734\n"
     ]
    }
   ],
   "source": [
    "import glob\n",
    "import pandas as pd\n",
    "import csv\n",
    "import os\n",
    "import time\n",
    "\n",
    "files = glob.glob(\"BLM_R5IM_Data/cycle\" + '/*.csv')\n",
    "selected_file = files[0]\n",
    "input_data = pd.read_csv(selected_file)\n",
    "dataframe = input_data.drop(columns = input_data.columns[0]).to_numpy()\n",
    "\n",
    "# Start timer\n",
    "start_time = time.time()\n",
    "\n",
    "# Write to csv\n",
    "f = open(\"C:\\\\Users\\\\izy65733\\\\documents\\\\csvBLM.csv\", \"w\")\n",
    "writer = csv.writer(f)\n",
    "writer.writerows(dataframe)\n",
    "f.close()\n",
    "\n",
    "# End timer and print time\n",
    "end_time = time.time()\n",
    "total_time = (round(end_time - start_time, 4))\n",
    "print('Write:',total_time)\n",
    "\n",
    "# Start timer\n",
    "start_time = time.time()\n",
    "\n",
    "#Read from csv with pandas\n",
    "selected_file = \"C:\\\\Users\\\\izy65733\\\\documents\\\\csvBLM.csv\"\n",
    "input_data = pd.read_csv(selected_file)\n",
    "\n",
    "# End timer and print time\n",
    "end_time = time.time()\n",
    "total_time = (round(end_time - start_time, 4))\n",
    "print('Read:',total_time)"
   ]
  },
  {
   "cell_type": "markdown",
   "id": "38b01945",
   "metadata": {},
   "source": [
    "This is the numpy files speed tester."
   ]
  },
  {
   "cell_type": "code",
   "execution_count": 17,
   "id": "e26a2880",
   "metadata": {},
   "outputs": [
    {
     "name": "stdout",
     "output_type": "stream",
     "text": [
      "Write: 0.00520515\n",
      "[[-4.99939013e+00 -4.99939013e+00 -4.99939013e+00 ... -4.99939013e+00\n",
      "  -4.99939013e+00 -4.99939013e+00]\n",
      " [-6.70999987e-03 -4.87999991e-03 -4.26999992e-03 ... -5.48999989e-03\n",
      "  -4.87999991e-03 -4.26999992e-03]\n",
      " [-3.04999994e-03  6.09999988e-04  1.21999998e-03 ...  4.26999992e-03\n",
      "   4.26999992e-03  6.09999988e-04]\n",
      " ...\n",
      " [-3.04999994e-03  1.21999998e-03  2.43999995e-03 ...  2.43999995e-03\n",
      "  -1.21999998e-03  0.00000000e+00]\n",
      " [-1.21999998e-03 -1.21999998e-03  6.09999988e-04 ... -6.70999987e-03\n",
      "  -4.87999991e-03 -4.87999991e-03]\n",
      " [ 3.53999995e-02  3.53999995e-02  3.60100009e-02 ...  2.31899992e-02\n",
      "   2.31899992e-02  2.31899992e-02]]\n",
      "Read: 0.00520825\n"
     ]
    }
   ],
   "source": [
    "import glob\n",
    "import pandas as pd\n",
    "import csv\n",
    "import os\n",
    "import time\n",
    "import numpy as np\n",
    "\n",
    "files = glob.glob(\"BLM_R5IM_Data/cycle\" + '/*.csv')\n",
    "selected_file = files[0]\n",
    "input_data = pd.read_csv(selected_file)\n",
    "dataframe = input_data.drop(columns = input_data.columns[0]).to_numpy()\n",
    "\n",
    "# Start timer\n",
    "start_time = time.time()\n",
    "\n",
    "### Write to csv\n",
    "f = open(\"C:\\\\Users\\\\izy65733\\\\documents\\\\csvBLM.npy\", \"w\")\n",
    "np.save(\"C:\\\\Users\\\\izy65733\\\\documents\\\\csvBLM.npy\", dataframe)\n",
    "f.close()\n",
    "\n",
    "# End timer and print time\n",
    "end_time = time.time()\n",
    "total_time = (round(end_time - start_time, 8))\n",
    "print('Write:',total_time)\n",
    "\n",
    "\n",
    "\n",
    "# Start timer\n",
    "start_time = time.time()\n",
    "\n",
    "### Read from csv\n",
    "new_dataframe = np.load(\"C:\\\\Users\\\\izy65733\\\\documents\\\\csvBLM.npy\")\n",
    "print(new_dataframe)\n",
    "\n",
    "# End timer and print time\n",
    "end_time = time.time()\n",
    "total_time = (round(end_time - start_time, 8))\n",
    "print('Read:',total_time)"
   ]
  },
  {
   "cell_type": "code",
   "execution_count": null,
   "id": "f7f40667",
   "metadata": {},
   "outputs": [],
   "source": []
  }
 ],
 "metadata": {
  "kernelspec": {
   "display_name": "Python 3 (ipykernel)",
   "language": "python",
   "name": "python3"
  },
  "language_info": {
   "codemirror_mode": {
    "name": "ipython",
    "version": 3
   },
   "file_extension": ".py",
   "mimetype": "text/x-python",
   "name": "python",
   "nbconvert_exporter": "python",
   "pygments_lexer": "ipython3",
   "version": "3.10.9"
  }
 },
 "nbformat": 4,
 "nbformat_minor": 5
}
