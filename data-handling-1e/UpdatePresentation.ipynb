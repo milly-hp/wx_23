{
 "cells": [
  {
   "cell_type": "markdown",
   "id": "9852500e",
   "metadata": {},
   "source": [
    "# Update Presentation"
   ]
  },
  {
   "cell_type": "markdown",
   "id": "bd7af552",
   "metadata": {},
   "source": [
    "### Project 1E:\n",
    "\n",
    "Create a file handling system that reads data, stores it in a file and then reads it later. More importantly, it has to transfer this data quickly, to keep up with the 1hz or ideally 50hz that the BLMs operate at."
   ]
  },
  {
   "cell_type": "markdown",
   "id": "6c0c4299",
   "metadata": {},
   "source": [
    "Research: \n",
    "\n",
    "- Types of files.\n",
    "\n",
    "- Methods of transferring data.\n",
    "\n",
    "- Data structures.\n"
   ]
  },
  {
   "cell_type": "markdown",
   "id": "b4d87a20",
   "metadata": {},
   "source": [
    "Implementation:\n",
    "\n",
    "- Code that stores the data in a file.\n",
    "- Timer for testing transfer speeds."
   ]
  },
  {
   "cell_type": "code",
   "execution_count": 8,
   "id": "53660ff4",
   "metadata": {},
   "outputs": [
    {
     "name": "stdout",
     "output_type": "stream",
     "text": [
      "Write: 0.2411\n",
      "Read: 0.0309\n"
     ]
    }
   ],
   "source": [
    "import glob\n",
    "import pandas as pd\n",
    "import time\n",
    "import csv\n",
    "\n",
    "files = glob.glob(\"BLM_R5IM_Data/cycle\" + '/*.csv')\n",
    "selected_file = files[0]\n",
    "input_data = pd.read_csv(selected_file)\n",
    "dataframe = input_data.drop(columns = input_data.columns[0]).to_numpy()\n",
    "\n",
    "\n",
    "f = open(\"C:\\\\Users\\\\izy65733\\\\documents\\\\textBLM.txt\", \"w\")\n",
    "f.write(\"\")\n",
    "f.close()\n",
    "\n",
    "# Start timer\n",
    "start_time = time.time()\n",
    "\n",
    "f = open(\"C:\\\\Users\\\\izy65733\\\\documents\\\\textBLM.txt\", \"a\")\n",
    "writer = csv.writer(f)\n",
    "writer.writerows(dataframe)\n",
    "f.close()\n",
    "\n",
    "# End timer and print time\n",
    "end_time = time.time()\n",
    "total_time = (round(end_time - start_time, 4))\n",
    "print('Write:',total_time)\n",
    "\n",
    "\n",
    "\n",
    "# Start timer\n",
    "start_time = time.time()\n",
    "\n",
    "f = open(\"C:\\\\Users\\\\izy65733\\\\documents\\\\textBLM.txt\", \"r\")\n",
    "i = 0\n",
    "j = 0\n",
    "for line in f:\n",
    "    try:\n",
    "        voltage = float(line)\n",
    "        if j == 2200:\n",
    "            i += 1\n",
    "            j = 0\n",
    "        dataframe[i] = voltage\n",
    "        j += 1\n",
    "    except:\n",
    "        pass\n",
    "f.close()\n",
    "\n",
    "\n",
    "# End timer and print time\n",
    "end_time = time.time()\n",
    "total_time = (round(end_time - start_time, 4))\n",
    "print('Read:',total_time)"
   ]
  },
  {
   "cell_type": "markdown",
   "id": "893d542a",
   "metadata": {},
   "source": [
    "Testing:\n",
    "\n",
    "- Finding the fastest transfer rates.\n",
    "\n",
    "![alt text](Screenshot__2_.png \"Testing\")"
   ]
  },
  {
   "cell_type": "markdown",
   "id": "286d05ab",
   "metadata": {},
   "source": [
    " Aims:\n",
    " \n",
    "- To unite our code\n",
    "- Keep optimising the transfer speeds\n",
    "- To make numpy arrays to store data\n",
    "- Getting Data files to work\n",
    "- Turn the code into functions"
   ]
  },
  {
   "cell_type": "code",
   "execution_count": null,
   "id": "3032acf6",
   "metadata": {},
   "outputs": [],
   "source": []
  }
 ],
 "metadata": {
  "kernelspec": {
   "display_name": "Python 3 (ipykernel)",
   "language": "python",
   "name": "python3"
  },
  "language_info": {
   "codemirror_mode": {
    "name": "ipython",
    "version": 3
   },
   "file_extension": ".py",
   "mimetype": "text/x-python",
   "name": "python",
   "nbconvert_exporter": "python",
   "pygments_lexer": "ipython3",
   "version": "3.10.9"
  }
 },
 "nbformat": 4,
 "nbformat_minor": 5
}
