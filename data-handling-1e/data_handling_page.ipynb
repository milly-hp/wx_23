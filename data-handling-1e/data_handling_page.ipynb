{
 "cells": [
  {
   "cell_type": "markdown",
   "id": "0bab8d44",
   "metadata": {},
   "source": [
    "# 1E Data Handling Main Page"
   ]
  },
  {
   "cell_type": "markdown",
   "id": "889774be",
   "metadata": {},
   "source": [
    "### Authors:\n",
    "- Nathaniel\n",
    "- Tom\n",
    "- Harrison"
   ]
  },
  {
   "cell_type": "markdown",
   "id": "7571e921",
   "metadata": {},
   "source": [
    "Imports"
   ]
  },
  {
   "cell_type": "code",
   "execution_count": null,
   "id": "e608ebad",
   "metadata": {},
   "outputs": [],
   "source": [
    "import glob\n",
    "import pandas as pd\n",
    "import random\n",
    "import paho.mqtt.client as mqtt\n",
    "import string\n",
    "import time\n",
    "import matplotlib.pyplot as plt\n",
    "import numpy as np\n"
   ]
  },
  {
   "cell_type": "markdown",
   "id": "e930b627",
   "metadata": {},
   "source": [
    "Code to load files into variables using "
   ]
  },
  {
   "cell_type": "markdown",
   "id": "0c2c2506",
   "metadata": {},
   "source": [
    "files = glob.glob(\"BLM_R5IM_Data/cycle\" + '/*.csv')\n",
    "print(files[0])\n",
    "\n",
    "\n",
    "\n",
    "for x in range(len(files)):\n",
    "    input_data = pd.read_csv(files[x])\n",
    "    dataframe = input_data.drop(columns = input_data.columns[0]).to_numpy()\n",
    "    print(dataframe)"
   ]
  },
  {
   "cell_type": "code",
   "execution_count": null,
   "id": "c3adb752",
   "metadata": {},
   "outputs": [],
   "source": []
  }
 ],
 "metadata": {
  "kernelspec": {
   "display_name": "Python 3 (ipykernel)",
   "language": "python",
   "name": "python3"
  },
  "language_info": {
   "codemirror_mode": {
    "name": "ipython",
    "version": 3
   },
   "file_extension": ".py",
   "mimetype": "text/x-python",
   "name": "python",
   "nbconvert_exporter": "python",
   "pygments_lexer": "ipython3",
   "version": "3.10.9"
  }
 },
 "nbformat": 4,
 "nbformat_minor": 5
}
